{
  "cells": [
    {
      "cell_type": "markdown",
      "metadata": {
        "id": "29yED9m3clDo"
      },
      "source": [
        "# 2-1. 文字列 (string)\n",
        "\n",
        "文書処理などに必要な文字列について説明します。\n",
        "\n",
        "参考\n",
        "\n",
        "- https://docs.python.org/ja/3/tutorial/introduction.html#strings\n",
        "\n",
        "Pythonが扱うデータには様々な種類がありますが、**文字列**はいくつかの文字の並びから構成されるデータです。\n",
        "Pythonは標準で多言語に対応しており、\n",
        "英語アルファベットだけではなく日本語をはじめとする多くの言語を取り扱えます。\n",
        "\n",
        "文字列は、文字の並びをシングルクォート `'...'`、もしくはダブルクォート `\"...\"` で囲んで記述します。\n",
        "\n",
        "以下の例では文字列をそれぞれ、変数 `word1`, `word2` に代入しています。"
      ]
    },
    {
      "cell_type": "code",
      "execution_count": null,
      "metadata": {
        "id": "M_pfOpm5clDp"
      },
      "outputs": [],
      "source": [
        "word1 = 'hello'\n",
        "word1"
      ]
    },
    {
      "cell_type": "code",
      "execution_count": null,
      "metadata": {
        "id": "E50TaNWSclDp"
      },
      "outputs": [],
      "source": [
        "word2 = 'Hello'\n",
        "word2"
      ]
    },
    {
      "cell_type": "markdown",
      "metadata": {
        "id": "YOrwgmTUclDq"
      },
      "source": [
        "上の変数の値が確かに文字列であることは、組み込み関数 **`type`** によって確認できます。\n",
        "`type` は、任意のデータを引数として、そのデータの種類を返します。\n",
        "データの種類は、**データ型**もしくは**型**と呼ばれます。"
      ]
    },
    {
      "cell_type": "code",
      "execution_count": null,
      "metadata": {
        "id": "46uqOPzvclDq"
      },
      "outputs": [],
      "source": [
        "type(word1)"
      ]
    },
    {
      "cell_type": "markdown",
      "metadata": {
        "id": "K6U8vuNAclDq"
      },
      "source": [
        "**`str`** は文字列のデータ型を意味します。"
      ]
    },
    {
      "cell_type": "code",
      "execution_count": null,
      "metadata": {
        "id": "WknAALOQclDq"
      },
      "outputs": [],
      "source": [
        "type(word2)"
      ]
    },
    {
      "cell_type": "markdown",
      "metadata": {
        "id": "YA28KZJtclDq"
      },
      "source": [
        "`str` は組み込み関数としても用いられます。\n",
        "組み込み関数 **`str`** を使えば、任意のデータを文字列に変換できます。\n",
        "一般に、データ型は、そのデータ型への変換を行う関数として用いられることが多いです。\n",
        "\n",
        "1-1で学んだ数値を文字列に変換したい場合、次のように行います。"
      ]
    },
    {
      "cell_type": "code",
      "execution_count": null,
      "metadata": {
        "id": "VqeMxqdVclDq"
      },
      "outputs": [],
      "source": [
        "word3 = str(123)\n",
        "word3"
      ]
    },
    {
      "cell_type": "markdown",
      "metadata": {
        "id": "Z2ypLuTjclDq"
      },
      "source": [
        "逆に、`'123'` という文字列を整数に変換するには、1-1で述べた **`int`** という関数を用いることができます。\n",
        "（実は `int` は整数の型でもあります。）"
      ]
    },
    {
      "cell_type": "code",
      "execution_count": null,
      "metadata": {
        "id": "-jaCYkoPclDq"
      },
      "outputs": [],
      "source": [
        "i = int('123')\n",
        "i"
      ]
    },
    {
      "cell_type": "markdown",
      "metadata": {
        "id": "Q5z2WlV7clDq"
      },
      "source": [
        "関数 **`float`** を用いれば文字列を実数に変換できます。"
      ]
    },
    {
      "cell_type": "code",
      "execution_count": null,
      "metadata": {
        "id": "nxyDYaXvclDr"
      },
      "outputs": [],
      "source": [
        "f = float('123.4')\n",
        "f"
      ]
    },
    {
      "cell_type": "markdown",
      "metadata": {
        "id": "lpG9jUMfclDr"
      },
      "source": [
        "文字列の長さは、組み込み関数 **`len`** を用いて次のようにして求めます。"
      ]
    },
    {
      "cell_type": "code",
      "execution_count": null,
      "metadata": {
        "id": "0K_xCMtWclDs"
      },
      "outputs": [],
      "source": [
        "len(word1)"
      ]
    },
    {
      "cell_type": "markdown",
      "metadata": {
        "id": "g7_SdQw2clDs"
      },
      "source": [
        "複数行にわたる文字列を記述するには、トリプルクォート（`'''...'''` もしくは `\"\"\"...\"\"\"`）を用いることができます。\n",
        "上記の参考URLを参照してください。\n",
        "トリプルクォートはコメントとしても用いられます。\n",
        "なお、1-4 のコーディングスタイルのところで紹介したスタイルガイドのPEP8では、\n",
        "トリプルクォートには `\"\"\"...\"\"\"` を使うのが適切と定められています。"
      ]
    },
    {
      "cell_type": "markdown",
      "metadata": {
        "id": "e270tstfclDs"
      },
      "source": [
        "## 文字列とインデックス\n",
        "\n",
        "文字列はいくつかの文字によって構成されています。\n",
        "\n",
        "文字列 `'hello'` の3番目の文字を得たい場合は、以下のような記法を用います。"
      ]
    },
    {
      "cell_type": "code",
      "execution_count": null,
      "metadata": {
        "id": "GIylnsdIclDs"
      },
      "outputs": [],
      "source": [
        "'hello'[2]"
      ]
    },
    {
      "cell_type": "markdown",
      "metadata": {
        "id": "NhnoVb2uclDs"
      },
      "source": [
        "文字列を値とする変数に対しても同様の記法を用います。多くの場合は変数に対してこの記法を用います。"
      ]
    },
    {
      "cell_type": "code",
      "execution_count": null,
      "metadata": {
        "id": "97jz__49clDs"
      },
      "outputs": [],
      "source": [
        "word1 = 'hello'\n",
        "word1[2]"
      ]
    },
    {
      "cell_type": "markdown",
      "metadata": {
        "id": "AUdUFCIiclDs"
      },
      "source": [
        "この括弧内の数値のことを**インデックス**と呼びます。インデックスは `0` から始まるので、\n",
        "ある文字列の `x` 番目の要素を得るには、インデックスとして `x-1` を指定する必要があります。\n",
        "\n",
        "こうして取得した文字は、Pythonでは長さが 1 の文字列として扱われます。\n",
        "（プログラミング言語によっては、文字列ではなく別の型のデータとして扱われるものもありますので注意してください。）"
      ]
    },
    {
      "cell_type": "markdown",
      "metadata": {
        "id": "MUGGyDc3clDs"
      },
      "source": [
        "文字列に対して、インデックスを指定してその要素を変更することはできません。（次のセルはエラーとなります）\n",
        "Pythonのデータは、大きく、変更可能なものと変更不可能なものに分類できますが、\n",
        "文字列は変更不可能なデータです。\n",
        "したがって、文字列を加工する場合は、新たに別の文字列を作成します。"
      ]
    },
    {
      "cell_type": "code",
      "execution_count": null,
      "metadata": {
        "tags": [
          "raises-exception"
        ],
        "id": "F83ZvFphclDt"
      },
      "outputs": [],
      "source": [
        "word1 = 'hello'\n",
        "word1[0] = 'H'"
      ]
    },
    {
      "cell_type": "markdown",
      "metadata": {
        "id": "fvTvJzNJclDt"
      },
      "source": [
        "また、文字列の長さ以上のインデックスを指定することはできません。（次はエラーとなります）"
      ]
    },
    {
      "cell_type": "code",
      "execution_count": null,
      "metadata": {
        "tags": [
          "raises-exception"
        ],
        "id": "6lmLgHDOclDt"
      },
      "outputs": [],
      "source": [
        "word1[100]"
      ]
    },
    {
      "cell_type": "markdown",
      "metadata": {
        "id": "RNiRcdlPclDt"
      },
      "source": [
        "インデックスに負数を指定すると、\n",
        "文字列を後ろから数えた順序に従って文字列を構成する文字を得ます。\n",
        "たとえば、文字列の最後の文字を取得するには、`-1` を指定します。"
      ]
    },
    {
      "cell_type": "code",
      "execution_count": null,
      "metadata": {
        "id": "Xc4zjx4XclDt"
      },
      "outputs": [],
      "source": [
        "word1[-1]"
      ]
    },
    {
      "cell_type": "markdown",
      "metadata": {
        "id": "pkoDOd52clDt"
      },
      "source": [
        "まとめると文字列 `hello` の正負のインデックスは以下の表の関係になります。  \n",
        "\n",
        "|インデックス|h|e|l|l|o|\n",
        "|-|--|--|--|--|--|\n",
        "|0か正|0|1|2|3|4|\n",
        "|負|-5|-4|-3|-2|-1|"
      ]
    },
    {
      "cell_type": "markdown",
      "metadata": {
        "id": "yT7nHoEdclDt"
      },
      "source": [
        "## 文字列とスライス\n",
        "**スライス**と呼ばれる機能を利用して、文字列の一部（部分文字列）を取得できます。\n",
        "\n",
        "具体的には、取得したい部分文字列の先頭の文字のインデックスと最後の文字のインデックスに\n",
        "`1` を加えた値を指定します。\n",
        "たとえば、ある文字列の2番目の文字から4番目までの文字の部分文字列を得るには次のようにします。"
      ]
    },
    {
      "cell_type": "code",
      "execution_count": null,
      "metadata": {
        "id": "L6YOpqstclDt"
      },
      "outputs": [],
      "source": [
        "digits1='0123456789'\n",
        "digits1[1:4]"
      ]
    },
    {
      "cell_type": "markdown",
      "metadata": {
        "id": "2AdXP1o_clDt"
      },
      "source": [
        "文字列の先頭（すなわち、インデックスが `0` の文字）を指定する場合、次のように行えます。"
      ]
    },
    {
      "cell_type": "code",
      "execution_count": null,
      "metadata": {
        "id": "BpOXzs5YclDt"
      },
      "outputs": [],
      "source": [
        "digits1[0:3]"
      ]
    },
    {
      "cell_type": "markdown",
      "metadata": {
        "id": "l1OCHY0nclDt"
      },
      "source": [
        "しかし、最初の `0` は省略しても同じ結果となります。"
      ]
    },
    {
      "cell_type": "code",
      "execution_count": null,
      "metadata": {
        "id": "3ivlBArfclDt"
      },
      "outputs": [],
      "source": [
        "digits1[:3]"
      ]
    },
    {
      "cell_type": "markdown",
      "metadata": {
        "id": "Ua9WTZyrclDt"
      },
      "source": [
        "同様に、最後尾の文字のインデックスも、値を省略することもできます。"
      ]
    },
    {
      "cell_type": "code",
      "execution_count": null,
      "metadata": {
        "id": "w6e7NIUkclDt"
      },
      "outputs": [],
      "source": [
        "digits1[3:]"
      ]
    },
    {
      "cell_type": "code",
      "execution_count": null,
      "metadata": {
        "id": "1_HeKh8gclDt"
      },
      "outputs": [],
      "source": [
        "digits1[3:5]"
      ]
    },
    {
      "cell_type": "markdown",
      "metadata": {
        "id": "4bSAbeyAclDt"
      },
      "source": [
        "スライスにおいても負数を指定して、\n",
        "文字列の最後の方から部分文字列を取得できます。"
      ]
    },
    {
      "cell_type": "code",
      "execution_count": null,
      "metadata": {
        "id": "Lw91Y6-NclDt"
      },
      "outputs": [],
      "source": [
        "digits1[-4:-1]"
      ]
    },
    {
      "cell_type": "markdown",
      "metadata": {
        "id": "AlJltLq1clD0"
      },
      "source": [
        "スライスでは3番目の値を指定することで、とびとびの文字を指定できます。次のように `digits1[3:9:2]` と指定すると、インデックス `3` から2文字おきにインデックス `9` より小さい文字を並べた部分文字列を得ます。"
      ]
    },
    {
      "cell_type": "code",
      "execution_count": null,
      "metadata": {
        "id": "urMHPmYHclD0"
      },
      "outputs": [],
      "source": [
        "digits1[3:9:2]"
      ]
    },
    {
      "cell_type": "markdown",
      "metadata": {
        "id": "Gu7BtjtFclD0"
      },
      "source": [
        "3番目の値に `-1` を指定することもできます。これを使えば元の文字列の逆向きの文字列を得ることができます。"
      ]
    },
    {
      "cell_type": "code",
      "execution_count": null,
      "metadata": {
        "id": "0LhIFXY3clD0"
      },
      "outputs": [],
      "source": [
        "digits1[8:4:-1]"
      ]
    },
    {
      "cell_type": "markdown",
      "metadata": {
        "id": "WQMSsph5clD0"
      },
      "source": [
        "## 空文字列\n",
        "シングルクォート（もしくはダブルクォート）で、何も囲まない場合、長さ 0 の文字列（**空文字列**（くうもじれつ）もしくは、**空列**（くうれつ））となります。\n",
        "具体的には、下記のように使用します。\n",
        "\n",
        "---\n",
        "```Python\n",
        "blank = ''\n",
        "```\n",
        "---\n",
        "\n",
        "空文字列は、次のように、たとえば文字列中からある部分文字列を取り除くのに使用します。\n",
        "（`replace` は後で説明します。）"
      ]
    },
    {
      "cell_type": "code",
      "execution_count": null,
      "metadata": {
        "id": "BzyoyWp6clD0"
      },
      "outputs": [],
      "source": [
        "price = '2,980円'\n",
        "price.replace(',', '')"
      ]
    },
    {
      "cell_type": "markdown",
      "metadata": {
        "id": "TYJBuyUMclD0"
      },
      "source": [
        "文字列のスライスにおいて、指定したインデックスの範囲に文字列が存在しない場合、\n",
        "たとえば、最初に指定したインデックス `x` に対して、\n",
        "2番目のインデックスの値に `x` 以下のインデックスの値を指定するとどうなるでしょうか？\n",
        "（ただし、2つのインデックスは同じ符号を持つとし、スライスの3番目の値は用いないとします。）\n",
        "このような場合、結果は次のように空文字列となります（エラーが出たり、結果が `None` にはならないことに注意してください）。"
      ]
    },
    {
      "cell_type": "code",
      "execution_count": null,
      "metadata": {
        "id": "1fk4lZw-clD0"
      },
      "outputs": [],
      "source": [
        "digits1='0123456789'\n",
        "print('空文字列1 = ', digits1[4:2])\n",
        "print('空文字列2 = ', digits1[-1:-4])\n",
        "print('空文字列3 = ', digits1[3:3])\n",
        "print('空文字列ではない = ', digits1[3:-1])"
      ]
    },
    {
      "cell_type": "markdown",
      "metadata": {
        "id": "BMBxhAHaclD0"
      },
      "source": [
        "## 文字列の検索\n",
        "\n",
        "`文字列A` が `文字列B` を含むかどうかを調べるには、**`in`** 演算子を使います。\n",
        "具体的には、次のように使用します。\n",
        "\n",
        "---\n",
        "```Python\n",
        "文字列B in 文字列A\n",
        "```\n",
        "---\n",
        "\n",
        "調べたい `文字列B` が含まれていれば `True` が、そうでなければ `False` が返ります。"
      ]
    },
    {
      "cell_type": "code",
      "execution_count": null,
      "metadata": {
        "id": "T52jMN-vclD0"
      },
      "outputs": [],
      "source": [
        "'lo' in 'hello'"
      ]
    },
    {
      "cell_type": "code",
      "execution_count": null,
      "metadata": {
        "id": "Mvh228k1clD0"
      },
      "outputs": [],
      "source": [
        "'z' in 'hello'"
      ]
    },
    {
      "cell_type": "markdown",
      "metadata": {
        "id": "EMP5jY6sclD0"
      },
      "source": [
        "実際のプログラムでは文字列を値とする変数を用いることが多いでしょう。"
      ]
    },
    {
      "cell_type": "code",
      "execution_count": null,
      "metadata": {
        "id": "2FKiBAGqclD1"
      },
      "outputs": [],
      "source": [
        "word1 =  'hello'\n",
        "substr1 = 'lo'\n",
        "substr1 in word1"
      ]
    },
    {
      "cell_type": "code",
      "execution_count": null,
      "metadata": {
        "id": "XEDc6BCFclD1"
      },
      "outputs": [],
      "source": [
        "substr2 = 'z'\n",
        "substr2 in word1"
      ]
    },
    {
      "cell_type": "markdown",
      "metadata": {
        "id": "rdY7UgdKclD1"
      },
      "source": [
        "**`not in`** 演算子は、`in` 演算子の逆を意味します。"
      ]
    },
    {
      "cell_type": "code",
      "execution_count": null,
      "metadata": {
        "id": "u1vjfV0jclD1"
      },
      "outputs": [],
      "source": [
        "word1 =  'hello'\n",
        "substr2 = 'z'\n",
        "substr2 not in word1"
      ]
    },
    {
      "cell_type": "markdown",
      "metadata": {
        "id": "ScpTV2wDclD1"
      },
      "source": [
        "## ▲エスケープシーケンス\n",
        "文字列を作成するにはシングル `'` あるいはダブルクォート `\"` で囲むと説明しました。\n",
        "これらの文字を含む文字列を作成するには、**エスケープシーケンス**と呼ばれる特殊な文字列を使う必要があります。\n",
        "\n",
        "たとえば、下のように文字列に `'` を含む文字列を `'` で囲むと文字列の範囲がずれてエラーとなります。"
      ]
    },
    {
      "cell_type": "code",
      "execution_count": null,
      "metadata": {
        "tags": [
          "raises-exception"
        ],
        "id": "ptOW_ajIclD1"
      },
      "outputs": [],
      "source": [
        "non_escaped = 'This is 'MINE''\n",
        "non_escaped"
      ]
    },
    {
      "cell_type": "markdown",
      "metadata": {
        "id": "Td78VhgzclD1"
      },
      "source": [
        "エラーを避けるには、エスケープシーケンスで `'` を記述します、具体的には `'` の前に `\\` と記述すると、`'` を含む文字列を作成できます。"
      ]
    },
    {
      "cell_type": "code",
      "execution_count": null,
      "metadata": {
        "id": "8nVJdwPlclD1"
      },
      "outputs": [],
      "source": [
        "escaped1 = 'This is \\'MINE\\''\n",
        "escaped1"
      ]
    },
    {
      "cell_type": "markdown",
      "metadata": {
        "id": "lifv_sf4clD1"
      },
      "source": [
        "実は、シングルクォートで囲む代わりにダブルクォートを使えばエスケープシーケンスを使わずに記述できます。"
      ]
    },
    {
      "cell_type": "code",
      "execution_count": null,
      "metadata": {
        "id": "7vOFPzq4clD1"
      },
      "outputs": [],
      "source": [
        "doublequated = \"This is 'MINE'\"\n",
        "doublequated"
      ]
    },
    {
      "cell_type": "markdown",
      "metadata": {
        "id": "nK0HTkWHclD1"
      },
      "source": [
        "他にも、ダブルクォートを表す `\\\"`、`\\` を表す `\\\\` 、改行を表す `\\n` など、様々なエスケープシーケンスがあります。"
      ]
    },
    {
      "cell_type": "code",
      "execution_count": null,
      "metadata": {
        "id": "8rKWM2CeclD1"
      },
      "outputs": [],
      "source": [
        "escaped2 = \"時は金なり\\n\\\"Time is money\\\"\\nTime is \\\\\"\n",
        "print(escaped2)"
      ]
    },
    {
      "cell_type": "markdown",
      "metadata": {
        "id": "4_Yf-h3iclD1"
      },
      "source": [
        "3連のシングルクォート、もしくはダブルクォートを利用すれば、 `\\\"` や `\\n` を使わずに記述できます。"
      ]
    },
    {
      "cell_type": "code",
      "execution_count": null,
      "metadata": {
        "id": "2OtLkLJmclD1"
      },
      "outputs": [],
      "source": [
        "triple_single_quated = '''時は金なり\n",
        "'Time is money'\n",
        "Time is \\\\'''\n",
        "print(triple_single_quated)"
      ]
    },
    {
      "cell_type": "code",
      "execution_count": null,
      "metadata": {
        "id": "6dgmn2HsclD1"
      },
      "outputs": [],
      "source": [
        "triple_double_quated = \"\"\"時は金なり\n",
        "'Time is money'\n",
        "Time is \\\\\"\"\"\n",
        "print(triple_single_quated)"
      ]
    },
    {
      "cell_type": "markdown",
      "metadata": {
        "id": "pWIx1EuDclD1"
      },
      "source": [
        "なお、プログラムの一部を無効に（コメントアウト）したいとき、\n",
        "3連のクォートで囲んで文字列にしてしまうことがあります。"
      ]
    },
    {
      "cell_type": "markdown",
      "metadata": {
        "id": "X-YuLEBbclD1"
      },
      "source": [
        "## バックスラッシュの表示と入力\n",
        "\n",
        "エスケープシーケンスの先頭にある文字は、バックスラッシュ `\\`（Unicode `U+005C`）です。\n",
        "これはPythonに限った話ではないですが、バックスラッシュは環境（正確にはフォント）によって見え方が異なります。\n",
        "Windows上のフォントでは、円記号 `¥` として見えることが多いです。\n",
        "macOS上のフォントでは、そのままバックスラッシュとして見えることが多いです。\n",
        "\n",
        "JIS配列キーボードでは、バックスラッシュキーがないことがあります。\n",
        "Windows上では、円記号 `¥` キーでバックスラッシュが入力できます。\n",
        "macOS上では、`Alt` + `¥` キーでバックスラッシュが入力できます。\n",
        "ただし、IME設定によっても入力方法は変わるので注意してください。"
      ]
    },
    {
      "cell_type": "code",
      "execution_count": null,
      "metadata": {
        "id": "HzjVlJXtclD1"
      },
      "outputs": [],
      "source": [
        "print('\\n') # 改行文字（バックスラッシュ + n）\n",
        "print('¥n') # 改行文字でない（円記号 + n）\n",
        "print('⧵n') # 改行文字でない（Unicode U+29F5 のバックスラッシュ演算子 + n）"
      ]
    },
    {
      "cell_type": "markdown",
      "metadata": {
        "id": "kV1LV9UrclD1"
      },
      "source": [
        "## 文字列の連結\n",
        "**`+`** 演算子を用いれば文字列同士を**連結**できます。\n",
        "この演算では新しい文字列が作られ、元の文字列は変化しません。"
      ]
    },
    {
      "cell_type": "code",
      "execution_count": null,
      "metadata": {
        "id": "u84OqrRaclD1"
      },
      "outputs": [],
      "source": [
        "word1 = 'hello'\n",
        "word2 = ' world'\n",
        "text1 = word1 + word2\n",
        "text1"
      ]
    },
    {
      "cell_type": "markdown",
      "metadata": {
        "id": "qo8ncSu4clD1"
      },
      "source": [
        "**`*`** 演算子で文字列の繰り返し回数を指定できます。"
      ]
    },
    {
      "cell_type": "code",
      "execution_count": null,
      "metadata": {
        "id": "op0jKowFclD1"
      },
      "outputs": [],
      "source": [
        "word1 = 'hello'\n",
        "word1 * 3"
      ]
    },
    {
      "cell_type": "markdown",
      "metadata": {
        "id": "ZLQ6z9hEclD1"
      },
      "source": [
        "## 文字列とメソッド\n",
        "文字列に対する操作を行うため、様々な**メソッド**（関数のようなもの）が用意されています。\n",
        "\n",
        "メソッドは必要に応じて `(...)` 内に引数を与え、以下のように使用します。\n",
        "\n",
        "---\n",
        "```Python\n",
        "文字列.メソッド名(式, ...)\n",
        "# あるいは\n",
        "文字列変数.メソッド名(式, ...)\n",
        "```\n",
        "---\n",
        "\n",
        "文字列には以下のようなメソッドが用意されています。"
      ]
    },
    {
      "cell_type": "markdown",
      "metadata": {
        "id": "KQTHIm0nclD1"
      },
      "source": [
        "### **置換**\n",
        "\n",
        "**`replace`** メソッドは、指定した `部分文字列A` を、別に指定した `文字列B` で置き換えた文字列を作成します。\n",
        "この操作では、元の文字列は変化しません。具体的には、次のように使用します。\n",
        "\n",
        "---\n",
        "```Python\n",
        "文字列.replace(部分文字列A, 文字列B)\n",
        "```\n",
        "---"
      ]
    },
    {
      "cell_type": "code",
      "execution_count": null,
      "metadata": {
        "id": "_2oET2QtclD1"
      },
      "outputs": [],
      "source": [
        "word1 = 'hello'\n",
        "word1.replace('l', '123')"
      ]
    },
    {
      "cell_type": "code",
      "execution_count": null,
      "metadata": {
        "id": "j0yeoewwclD1"
      },
      "outputs": [],
      "source": [
        "word1"
      ]
    },
    {
      "cell_type": "code",
      "execution_count": 2,
      "metadata": {
        "id": "cjqrhIWtclD1"
      },
      "outputs": [],
      "source": [
        "def remove_punctuations(str_engsentences):\n",
        "    str1 = str_engsentences.replace('.', '') # 指定の文字を空文字に置換\n",
        "    str1 = str1.replace(',', '')\n",
        "    str1 = str1.replace(':', '')\n",
        "    str1 = str1.replace(';', '')\n",
        "    str1 = str1.replace('!', '')\n",
        "    str1 = str1.replace('?', '')\n",
        "    return str1"
      ]
    },
    {
      "cell_type": "markdown",
      "metadata": {
        "id": "-vtqXKcsclD1"
      },
      "source": [
        "### 練習\n",
        "\n",
        "英語の文章からなる文字列 `str_engsentences` が引数として与えられたとき、`str_engsentences` 中に含まれる全ての句読点（`.`, `,`, `:`, `;`, `!`, `?`）を削除した文字列を返す関数 `remove_punctuations` を作成してください。\n",
        "（練習の解答はこのノートブックの一番最後にあります。）\n",
        "\n",
        "次のセルの `...` のところを書き換えて `remove_punctuations(str_engsentences)` を作成してください。"
      ]
    },
    {
      "cell_type": "markdown",
      "metadata": {
        "id": "itPppor6clD1"
      },
      "source": [
        "上のセルで解答を作成した後、以下のセルを実行し、実行結果が `True` になることを確認してください。"
      ]
    },
    {
      "cell_type": "code",
      "execution_count": 3,
      "metadata": {
        "tags": [
          "raises-exception"
        ],
        "colab": {
          "base_uri": "https://localhost:8080/"
        },
        "id": "AviDQSncclD1",
        "outputId": "9d52f6a7-e8ac-4f33-fd3c-0b2a3047cebf"
      },
      "outputs": [
        {
          "output_type": "stream",
          "name": "stdout",
          "text": [
            "True\n"
          ]
        }
      ],
      "source": [
        "print(remove_punctuations('Quiet, uh, donations, you want me to make a donation to the coast guard youth auxiliary?') == 'Quiet uh donations you want me to make a donation to the coast guard youth auxiliary')"
      ]
    },
    {
      "cell_type": "markdown",
      "metadata": {
        "id": "07qbz2VYclD1"
      },
      "source": [
        "### 練習\n",
        "\n",
        "ATGCの4種類の文字から成る文字列 `str_atgc` が引数として与えられたとき、文字列 `str_pair` を返す関数 `atgc_bppair` を作成してください。ただし、`str_pair` は、`str_atgc` 中の各文字列に対して、\n",
        "`A` を `T` に、`T` を `A` に、`G` を `C` に、`C` を `G` に置き換えたものです。\n",
        "\n",
        "次のセルの `...` のところを書き換えて `atgc_bppair(str_atgc)` を作成してください。"
      ]
    },
    {
      "cell_type": "code",
      "execution_count": 21,
      "metadata": {
        "id": "Y866XIRXclD2"
      },
      "outputs": [],
      "source": [
        "def atgc_bppair(str_atgc):\n",
        "    str_pair = str_atgc.replace('A', 't')\n",
        "    str_pair = str_pair.replace('T', 'a')\n",
        "    str_pair = str_pair.replace('G', 'c')\n",
        "    str_pair = str_pair.replace('C', 'g')\n",
        "    str_pair = str_pair.upper()\n",
        "    return str_pair"
      ]
    },
    {
      "cell_type": "markdown",
      "metadata": {
        "id": "nTWU_3chclD2"
      },
      "source": [
        "上のセルで解答を作成した後、以下のセルを実行し、実行結果が `True` になることを確認してください。"
      ]
    },
    {
      "cell_type": "code",
      "execution_count": 22,
      "metadata": {
        "tags": [
          "raises-exception"
        ],
        "colab": {
          "base_uri": "https://localhost:8080/"
        },
        "id": "W2Xi4fjNclD2",
        "outputId": "d52fea0c-74cd-48de-af53-f546804ec847"
      },
      "outputs": [
        {
          "output_type": "stream",
          "name": "stdout",
          "text": [
            "AAGGGGGAAGGAAA\n"
          ]
        }
      ],
      "source": [
        "print(atgc_bppair('AAGCCCCATGGTAA')) #== 'TTCGGGGTACCATT'"
      ]
    },
    {
      "cell_type": "markdown",
      "metadata": {
        "id": "fmCUWRwtclD2"
      },
      "source": [
        "### **検索**\n",
        "\n",
        "**`index`** メソッドにより、指定した `部分文字列B` が `文字列A` のどこに存在するか調べることができます。具体的には、次のように使用します。\n",
        "\n",
        "---\n",
        "```Python\n",
        "文字列A.index(部分文字列B)\n",
        "```\n",
        "---\n",
        "\n",
        "ただし、指定した部分文字列が文字列に複数回含まれる場合、最初のインデックスが返されます。また、指定した部分文字列が文字列に含まれない場合は、エラーとなります。"
      ]
    },
    {
      "cell_type": "code",
      "execution_count": null,
      "metadata": {
        "id": "rB6KqPc1clD2"
      },
      "outputs": [],
      "source": [
        "word1 = 'hello'\n",
        "word1.index('lo')"
      ]
    },
    {
      "cell_type": "code",
      "execution_count": null,
      "metadata": {
        "id": "HMInv3zSclD2"
      },
      "outputs": [],
      "source": [
        "word1.index('l')"
      ]
    },
    {
      "cell_type": "markdown",
      "metadata": {
        "id": "_QT9ZKWhclD2"
      },
      "source": [
        "以下はエラーとなります。"
      ]
    },
    {
      "cell_type": "code",
      "execution_count": null,
      "metadata": {
        "tags": [
          "raises-exception"
        ],
        "id": "0OwpAtH-clD2"
      },
      "outputs": [],
      "source": [
        "word1.index('a')"
      ]
    },
    {
      "cell_type": "markdown",
      "metadata": {
        "id": "1BgCwTG3clD3"
      },
      "source": [
        "**`find`** メソッドも `index` と同様に部分文字列を検索し、最初に出現するインデックスを返します。\n",
        "\n",
        "`index` との違いは、部分文字列が含まれない場合エラーとはならず `-1` が返されることです。"
      ]
    },
    {
      "cell_type": "code",
      "execution_count": null,
      "metadata": {
        "id": "f6S6n2JeclD3"
      },
      "outputs": [],
      "source": [
        "word1 = 'hello'\n",
        "word1.find('a')"
      ]
    },
    {
      "cell_type": "markdown",
      "metadata": {
        "id": "bugWIoPfclD3"
      },
      "source": [
        "### 練習\n",
        "\n",
        "コロン (`:`) を1つだけ含む文字列 `str1` を引数として与えると、コロンの左右に存在する文字列を入れ替えた文字列を返す関数 `swap_colon(str1)` を作成してください。\n",
        "\n",
        "次のセルの `...` のところを書き換えて `swap_colon(str1)` を作成してください。"
      ]
    },
    {
      "cell_type": "code",
      "execution_count": null,
      "metadata": {
        "id": "qzBfhWK3clD3"
      },
      "outputs": [],
      "source": [
        "def swap_colon(str1):\n",
        "    ..."
      ]
    },
    {
      "cell_type": "markdown",
      "metadata": {
        "id": "1e1GeX9PclD3"
      },
      "source": [
        "上のセルで解答を作成した後、以下のセルを実行し、実行結果が `True` になることを確認してください。"
      ]
    },
    {
      "cell_type": "code",
      "execution_count": null,
      "metadata": {
        "tags": [
          "raises-exception"
        ],
        "id": "_U37tMUNclD3"
      },
      "outputs": [],
      "source": [
        "print(swap_colon('hello:world') == 'world:hello')"
      ]
    },
    {
      "cell_type": "markdown",
      "metadata": {
        "id": "krip-OCvclD3"
      },
      "source": [
        "### **数え上げ**\n",
        "\n",
        "**`count`** メソッドにより、指定した `部分文字列B` が `文字列A` にいくつ存在するか調べることができます。\n",
        "\n",
        "---\n",
        "```Python\n",
        "文字列A.count(部分文字列B)\n",
        "```\n",
        "---"
      ]
    },
    {
      "cell_type": "code",
      "execution_count": null,
      "metadata": {
        "id": "jYhOKP8_clD3"
      },
      "outputs": [],
      "source": [
        "word1 = 'hello'\n",
        "word1.count('l')"
      ]
    },
    {
      "cell_type": "code",
      "execution_count": null,
      "metadata": {
        "id": "ZZoNB9YzclD3"
      },
      "outputs": [],
      "source": [
        "'aaaaaaa'.count('aa')"
      ]
    },
    {
      "cell_type": "markdown",
      "metadata": {
        "id": "JeR1ECVEclD3"
      },
      "source": [
        "### 練習\n",
        "\n",
        "ATGCの4種類の文字から成る文字列 `str_atgc` と塩基名（`A`, `T`, `G`, `C` のいずれか）を指定する文字列 `str_bpname` が引数として与えられたとき、`str_atgc` 中に含まれる塩基 `str_bpname` の数を返す関数 `atgc_count` を作成してください。\n",
        "\n",
        "次のセルの `...` のところを書き換えて `atgc_count(str_atgc, str_bpname)` を作成してください。"
      ]
    },
    {
      "cell_type": "code",
      "execution_count": null,
      "metadata": {
        "id": "8cTGvTjhclD3"
      },
      "outputs": [],
      "source": [
        "def atgc_count(str_atgc, str_bpname):\n",
        "    ..."
      ]
    },
    {
      "cell_type": "markdown",
      "metadata": {
        "id": "chHE-2ECclD3"
      },
      "source": [
        "上のセルで解答を作成した後、以下のセルを実行し、実行結果が `True` になることを確認してください。"
      ]
    },
    {
      "cell_type": "code",
      "execution_count": null,
      "metadata": {
        "tags": [
          "raises-exception"
        ],
        "id": "Ymf1z7JkclD3"
      },
      "outputs": [],
      "source": [
        "print(atgc_count('AAGCCCCATGGTAA', 'A') == 5)"
      ]
    },
    {
      "cell_type": "markdown",
      "metadata": {
        "id": "-nSqV47oclD3"
      },
      "source": [
        "### **大文字**・**小文字**\n",
        "**`lower`**, **`capitalize`**, **`upper`** メソッドを用いると、文字列の中の英文字を小文字に変換したり、大文字に変換したりすることができます。\n",
        "\n",
        "これらの操作では、元の文字列は変化しません。"
      ]
    },
    {
      "cell_type": "code",
      "execution_count": null,
      "metadata": {
        "id": "7Yu1qYrtclD3"
      },
      "outputs": [],
      "source": [
        "upper_dna = 'DNA'\n",
        "upper_dna.lower() # 全ての文字を小文字にする"
      ]
    },
    {
      "cell_type": "code",
      "execution_count": null,
      "metadata": {
        "id": "RaCc_NATclD3"
      },
      "outputs": [],
      "source": [
        "upper_dna"
      ]
    },
    {
      "cell_type": "code",
      "execution_count": null,
      "metadata": {
        "id": "qaHKlusnclD3"
      },
      "outputs": [],
      "source": [
        "lower_text = 'hello world!'\n",
        "lower_text.capitalize() # 先頭文字を大文字にする"
      ]
    },
    {
      "cell_type": "code",
      "execution_count": null,
      "metadata": {
        "id": "0rc7LQ7_clD4"
      },
      "outputs": [],
      "source": [
        "lower_text"
      ]
    },
    {
      "cell_type": "code",
      "execution_count": null,
      "metadata": {
        "id": "j-pX3fWNclD4"
      },
      "outputs": [],
      "source": [
        "lower_text.upper() #全ての文字を大文字にする"
      ]
    },
    {
      "cell_type": "code",
      "execution_count": null,
      "metadata": {
        "id": "-JKV_tuPclD4"
      },
      "outputs": [],
      "source": [
        "lower_text"
      ]
    },
    {
      "cell_type": "markdown",
      "metadata": {
        "id": "os-8bF_qclD4"
      },
      "source": [
        "### ▲空白文字の削除\n",
        "\n",
        "半角スペース `' '`・改行文字 `'\\n'`・タブ文字 `'\\t'`・全角スペース `'　'` などを総称して**空白文字**と呼びます。\n",
        "\n",
        "`strip` メソッドを用いると、文字列の前後にある連続した空白文字を削除した文字列を取得できます。"
      ]
    },
    {
      "cell_type": "code",
      "execution_count": null,
      "metadata": {
        "id": "vyhAlgoFclD4"
      },
      "outputs": [],
      "source": [
        "'  abc\\n'.strip()"
      ]
    },
    {
      "cell_type": "code",
      "execution_count": null,
      "metadata": {
        "id": "v96Xa5kCclD4"
      },
      "outputs": [],
      "source": [
        "'　a b c　\\n'.strip()"
      ]
    },
    {
      "cell_type": "markdown",
      "metadata": {
        "id": "E7j9teUIclD4"
      },
      "source": [
        "左側の空白だけ削除する `lstrip` と右側の空白だけ削除する `rstrip` もあります。"
      ]
    },
    {
      "cell_type": "code",
      "execution_count": null,
      "metadata": {
        "id": "6JwLSUB-clD4"
      },
      "outputs": [],
      "source": [
        "'  abc\\n'.lstrip()"
      ]
    },
    {
      "cell_type": "code",
      "execution_count": null,
      "metadata": {
        "id": "7ooDFLauclD4"
      },
      "outputs": [],
      "source": [
        "'  abc\\n'.rstrip()"
      ]
    },
    {
      "cell_type": "markdown",
      "metadata": {
        "id": "2bRAwvxDclD4"
      },
      "source": [
        "## **文字列の比較演算**\n",
        "\n",
        "比較演算子、`==`, `<`, `>` などを用いて、2つの文字列を比較することもできます。"
      ]
    },
    {
      "cell_type": "code",
      "execution_count": null,
      "metadata": {
        "id": "YuhMFp2XclD4"
      },
      "outputs": [],
      "source": [
        "print('abc' == 'abc')\n",
        "print('ab' == 'abc')"
      ]
    },
    {
      "cell_type": "code",
      "execution_count": null,
      "metadata": {
        "id": "zjsHdbwPclD4"
      },
      "outputs": [],
      "source": [
        "print('abc' != 'abc')\n",
        "print('ab' != 'abc')"
      ]
    },
    {
      "cell_type": "markdown",
      "metadata": {
        "id": "AUgmYy1xclD4"
      },
      "source": [
        "文字列の大小の比較は、いわゆる辞書式による比較で、文字列の最初の文字から順に比較して大小を決めます。\n",
        "片方がもう片方を拡張したものであれば、拡張した方を大きいとします。"
      ]
    },
    {
      "cell_type": "code",
      "execution_count": null,
      "metadata": {
        "id": "uhLEjb45clD4"
      },
      "outputs": [],
      "source": [
        "print('abc' <= 'abc')\n",
        "print('abc' < 'abc')\n",
        "print('abc' < 'abd')\n",
        "print('ab' < 'abc')"
      ]
    },
    {
      "cell_type": "markdown",
      "metadata": {
        "id": "kwjSLYitclD4"
      },
      "source": [
        "## 練習\n",
        "\n",
        "英語の文字列 `str_engsentences` が引数として与えられたとき、それが全て小文字である場合、`True` を返し、そうでない場合、 `False` を返す関数 `check_lower` を作成してください。\n",
        "\n",
        "次のセルの `...` のところを書き換えて `check_lower(str_engsentences)` を作成してください。"
      ]
    },
    {
      "cell_type": "code",
      "execution_count": null,
      "metadata": {
        "id": "0IxKYjmkclD4"
      },
      "outputs": [],
      "source": [
        "def check_lower(str_engsentences):\n",
        "    ..."
      ]
    },
    {
      "cell_type": "markdown",
      "metadata": {
        "id": "jPw69A0tclD4"
      },
      "source": [
        "上のセルで解答を作成した後、以下のセルを実行し、実行結果が全て `True` になることを確認してください。"
      ]
    },
    {
      "cell_type": "code",
      "execution_count": null,
      "metadata": {
        "tags": [
          "raises-exception"
        ],
        "id": "ndvnI50wclD4"
      },
      "outputs": [],
      "source": [
        "print(check_lower('down down down') == True)\n",
        "print(check_lower('There were doors all round the hall, but they were all locked') == False)"
      ]
    },
    {
      "cell_type": "markdown",
      "metadata": {
        "id": "KL1hC8ZpclD4"
      },
      "source": [
        "## 初心者によくある誤解 --- **変数**と**文字列**の混乱\n",
        "\n",
        "初心者によくある誤解として、変数と文字列を混乱する例が見られます。たとえば、文字列を引数に取る次のような関数 `func` を考えます（ `func` は引数として与えられた文字列を大文字にして返す関数です）。"
      ]
    },
    {
      "cell_type": "code",
      "execution_count": null,
      "metadata": {
        "id": "dZM4up6LclD4"
      },
      "outputs": [],
      "source": [
        "def func(str1):\n",
        "    return str1.upper()"
      ]
    },
    {
      "cell_type": "markdown",
      "metadata": {
        "id": "I7zUK2xXclD4"
      },
      "source": [
        "ここで変数 `str2` を引数として `func` を呼ぶと、`str2` に格納されている文字列が大文字になって返ってきます。"
      ]
    },
    {
      "cell_type": "code",
      "execution_count": null,
      "metadata": {
        "id": "FGVteGF_clD4"
      },
      "outputs": [],
      "source": [
        "str2 = 'abc'\n",
        "func(str2)"
      ]
    },
    {
      "cell_type": "markdown",
      "metadata": {
        "id": "PPRKRo48clD4"
      },
      "source": [
        "次のように `func` を呼ぶと上とは結果が異なります。次の例では変数 `str2` （に格納されている文字列 `abc`）ではなく、文字列 `'str2'` を引数として `func` を呼び出しています。"
      ]
    },
    {
      "cell_type": "code",
      "execution_count": null,
      "metadata": {
        "id": "eKuYZ-sFclD4"
      },
      "outputs": [],
      "source": [
        "str2 = 'abc'\n",
        "func('str2')"
      ]
    },
    {
      "cell_type": "markdown",
      "metadata": {
        "id": "lTxjUNjOclD4"
      },
      "source": [
        "## 練習\n",
        "\n",
        "コンマ (`,`) を含む英語の文章からなる文字列 `str_engsentences` が引数として与えられたとき、`str_engsentences` 中の一番最初のコンマより後の文章のみかならなる文字列 `str_res` を返す関数 `remove_clause` を作成してください。ただし、 `str_res` の先頭は大文字のアルファベットとしてください。\n",
        "\n",
        "次のセルの `...` のところを書き換えて `remove_clause(str_engsentences)` を作成してください。"
      ]
    },
    {
      "cell_type": "code",
      "execution_count": null,
      "metadata": {
        "id": "mx4_uFrVclD4"
      },
      "outputs": [],
      "source": [
        "def remove_clause(str_engsentences):\n",
        "    ..."
      ]
    },
    {
      "cell_type": "markdown",
      "metadata": {
        "id": "OSRGxQdWclD4"
      },
      "source": [
        "上のセルで解答を作成した後、以下のセルを実行し、実行結果が `True` になることを確認してください。"
      ]
    },
    {
      "cell_type": "code",
      "execution_count": null,
      "metadata": {
        "tags": [
          "raises-exception"
        ],
        "id": "h9n-aQ8YclD4"
      },
      "outputs": [],
      "source": [
        "print(remove_clause(\"It's being seen, but you aren't observing.\") == \"But you aren't observing.\")"
      ]
    },
    {
      "cell_type": "markdown",
      "metadata": {
        "id": "YtY-WXVfclD4"
      },
      "source": [
        "## 練習の解答"
      ]
    },
    {
      "cell_type": "code",
      "execution_count": null,
      "metadata": {
        "id": "Y3BHU9vZclD4"
      },
      "outputs": [],
      "source": [
        "def remove_punctuations(str_engsentences):\n",
        "    str1 = str_engsentences.replace('.', '') # 指定の文字を空文字に置換\n",
        "    str1 = str1.replace(',', '')\n",
        "    str1 = str1.replace(':', '')\n",
        "    str1 = str1.replace(';', '')\n",
        "    str1 = str1.replace('!', '')\n",
        "    str1 = str1.replace('?', '')\n",
        "    return str1\n",
        "#remove_punctuations('Quiet, uh, donations, you want me to make a donation to the coast guard youth auxiliary?')"
      ]
    },
    {
      "cell_type": "code",
      "execution_count": null,
      "metadata": {
        "id": "oh405GwAclD4"
      },
      "outputs": [],
      "source": [
        "def atgc_bppair(str_atgc):\n",
        "    str_pair = str_atgc.replace('A', 't')# 指定の文字に置換。ただし全て小文字\n",
        "    str_pair = str_pair.replace('T', 'a')\n",
        "    str_pair = str_pair.replace('G', 'c')\n",
        "    str_pair = str_pair.replace('C', 'g')\n",
        "    str_pair = str_pair.upper() # 置換済みの小文字の列を大文字に変換\n",
        "    return str_pair\n",
        "#atgc_bppair('AAGCCCCATGGTAA')"
      ]
    },
    {
      "cell_type": "code",
      "execution_count": null,
      "metadata": {
        "id": "ltGZ_YSfclD5"
      },
      "outputs": [],
      "source": [
        "def swap_colon(str1):\n",
        "    #コロンの位置を取得する # findでもOK\n",
        "    col_index = str1.index(':')\n",
        "    #コロンの位置を基準に前半と後半の部分文字列を取得する\n",
        "    str2, str3 = str1[:col_index], str1[col_index+1:]\n",
        "    #部分文字列の順序を入れ替えて結合する\n",
        "    str4 = str3 + ':' + str2\n",
        "    return str4\n",
        "#swap_colon('hello:world')"
      ]
    },
    {
      "cell_type": "code",
      "execution_count": null,
      "metadata": {
        "id": "a-H7QfBhclD5"
      },
      "outputs": [],
      "source": [
        "def atgc_count(str_atgc, str_bpname):\n",
        "    return str_atgc.count(str_bpname)\n",
        "#atgc_count('AAGCCCCATGGTAA', 'A')"
      ]
    },
    {
      "cell_type": "code",
      "execution_count": null,
      "metadata": {
        "id": "aGNWPrAIclD5"
      },
      "outputs": [],
      "source": [
        "def check_lower(str_engsentences):\n",
        "    if str_engsentences == str_engsentences.lower():#元の文字列と小文字に変換した文字列を比較する\n",
        "        return True\n",
        "    return False\n",
        "#check_lower('down down down')\n",
        "#check_lower('There were doors all round the hall, but they were all locked')"
      ]
    },
    {
      "cell_type": "code",
      "execution_count": null,
      "metadata": {
        "id": "TfL84PHEclD5"
      },
      "outputs": [],
      "source": [
        "def remove_clause(str_engsentences):\n",
        "    int_index = str_engsentences.find(',')\n",
        "    str1 = str_engsentences[int_index+2:]\n",
        "    return str1.capitalize()\n",
        "#remove_clause(\"It's being seen, but you aren't observing.\")"
      ]
    },
    {
      "cell_type": "code",
      "execution_count": null,
      "metadata": {
        "id": "o5S2CCVkclD5"
      },
      "outputs": [],
      "source": []
    }
  ],
  "metadata": {
    "kernelspec": {
      "display_name": "Python 3",
      "language": "python",
      "name": "python3"
    },
    "language_info": {
      "name": "python"
    },
    "colab": {
      "provenance": []
    }
  },
  "nbformat": 4,
  "nbformat_minor": 0
}